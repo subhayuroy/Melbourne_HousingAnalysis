{
  "nbformat": 4,
  "nbformat_minor": 0,
  "metadata": {
    "colab": {
      "name": "HousingAnalysis.ipynb",
      "provenance": [],
      "authorship_tag": "ABX9TyOwxu0ZLfegStGKtD6gGxZl",
      "include_colab_link": true
    },
    "kernelspec": {
      "name": "python3",
      "display_name": "Python 3"
    }
  },
  "cells": [
    {
      "cell_type": "markdown",
      "metadata": {
        "id": "view-in-github",
        "colab_type": "text"
      },
      "source": [
        "<a href=\"https://colab.research.google.com/github/subhayuroy/Melbourne_HousingAnalysis/blob/master/HousingAnalysis.ipynb\" target=\"_parent\"><img src=\"https://colab.research.google.com/assets/colab-badge.svg\" alt=\"Open In Colab\"/></a>"
      ]
    },
    {
      "cell_type": "markdown",
      "metadata": {
        "id": "u1kqeQKgDJVl",
        "colab_type": "text"
      },
      "source": [
        "# Loading Data\n",
        "\n",
        "Read the Iowa data file into a Pandas DataFrame called home_data."
      ]
    },
    {
      "cell_type": "code",
      "metadata": {
        "id": "utwePU6tDQBT",
        "colab_type": "code",
        "colab": {}
      },
      "source": [
        "import pandas as pd\n",
        "\n",
        "# Path of the file to read\n",
        "iowa_file_path = 'melb_data.csv'\n",
        "# Read the file into a variable home_data\n",
        "home_data = pd.read_csv(iowa_file_path)"
      ],
      "execution_count": null,
      "outputs": []
    },
    {
      "cell_type": "code",
      "metadata": {
        "id": "78ILOV64Dq-P",
        "colab_type": "code",
        "colab": {
          "base_uri": "https://localhost:8080/",
          "height": 304
        },
        "outputId": "e132b7dd-5d13-4c5f-9dab-7fc6c09eb353"
      },
      "source": [
        "home_data.describe()"
      ],
      "execution_count": null,
      "outputs": [
        {
          "output_type": "execute_result",
          "data": {
            "text/html": [
              "<div>\n",
              "<style scoped>\n",
              "    .dataframe tbody tr th:only-of-type {\n",
              "        vertical-align: middle;\n",
              "    }\n",
              "\n",
              "    .dataframe tbody tr th {\n",
              "        vertical-align: top;\n",
              "    }\n",
              "\n",
              "    .dataframe thead th {\n",
              "        text-align: right;\n",
              "    }\n",
              "</style>\n",
              "<table border=\"1\" class=\"dataframe\">\n",
              "  <thead>\n",
              "    <tr style=\"text-align: right;\">\n",
              "      <th></th>\n",
              "      <th>Rooms</th>\n",
              "      <th>Price</th>\n",
              "      <th>Distance</th>\n",
              "      <th>Postcode</th>\n",
              "      <th>Bedroom2</th>\n",
              "      <th>Bathroom</th>\n",
              "      <th>Car</th>\n",
              "      <th>Landsize</th>\n",
              "      <th>BuildingArea</th>\n",
              "      <th>YearBuilt</th>\n",
              "      <th>Lattitude</th>\n",
              "      <th>Longtitude</th>\n",
              "      <th>Propertycount</th>\n",
              "    </tr>\n",
              "  </thead>\n",
              "  <tbody>\n",
              "    <tr>\n",
              "      <th>count</th>\n",
              "      <td>13580.000000</td>\n",
              "      <td>1.358000e+04</td>\n",
              "      <td>13580.000000</td>\n",
              "      <td>13580.000000</td>\n",
              "      <td>13580.000000</td>\n",
              "      <td>13580.000000</td>\n",
              "      <td>13518.000000</td>\n",
              "      <td>13580.000000</td>\n",
              "      <td>7130.000000</td>\n",
              "      <td>8205.000000</td>\n",
              "      <td>13580.000000</td>\n",
              "      <td>13580.000000</td>\n",
              "      <td>13580.000000</td>\n",
              "    </tr>\n",
              "    <tr>\n",
              "      <th>mean</th>\n",
              "      <td>2.937997</td>\n",
              "      <td>1.075684e+06</td>\n",
              "      <td>10.137776</td>\n",
              "      <td>3105.301915</td>\n",
              "      <td>2.914728</td>\n",
              "      <td>1.534242</td>\n",
              "      <td>1.610075</td>\n",
              "      <td>558.416127</td>\n",
              "      <td>151.967650</td>\n",
              "      <td>1964.684217</td>\n",
              "      <td>-37.809203</td>\n",
              "      <td>144.995216</td>\n",
              "      <td>7454.417378</td>\n",
              "    </tr>\n",
              "    <tr>\n",
              "      <th>std</th>\n",
              "      <td>0.955748</td>\n",
              "      <td>6.393107e+05</td>\n",
              "      <td>5.868725</td>\n",
              "      <td>90.676964</td>\n",
              "      <td>0.965921</td>\n",
              "      <td>0.691712</td>\n",
              "      <td>0.962634</td>\n",
              "      <td>3990.669241</td>\n",
              "      <td>541.014538</td>\n",
              "      <td>37.273762</td>\n",
              "      <td>0.079260</td>\n",
              "      <td>0.103916</td>\n",
              "      <td>4378.581772</td>\n",
              "    </tr>\n",
              "    <tr>\n",
              "      <th>min</th>\n",
              "      <td>1.000000</td>\n",
              "      <td>8.500000e+04</td>\n",
              "      <td>0.000000</td>\n",
              "      <td>3000.000000</td>\n",
              "      <td>0.000000</td>\n",
              "      <td>0.000000</td>\n",
              "      <td>0.000000</td>\n",
              "      <td>0.000000</td>\n",
              "      <td>0.000000</td>\n",
              "      <td>1196.000000</td>\n",
              "      <td>-38.182550</td>\n",
              "      <td>144.431810</td>\n",
              "      <td>249.000000</td>\n",
              "    </tr>\n",
              "    <tr>\n",
              "      <th>25%</th>\n",
              "      <td>2.000000</td>\n",
              "      <td>6.500000e+05</td>\n",
              "      <td>6.100000</td>\n",
              "      <td>3044.000000</td>\n",
              "      <td>2.000000</td>\n",
              "      <td>1.000000</td>\n",
              "      <td>1.000000</td>\n",
              "      <td>177.000000</td>\n",
              "      <td>93.000000</td>\n",
              "      <td>1940.000000</td>\n",
              "      <td>-37.856822</td>\n",
              "      <td>144.929600</td>\n",
              "      <td>4380.000000</td>\n",
              "    </tr>\n",
              "    <tr>\n",
              "      <th>50%</th>\n",
              "      <td>3.000000</td>\n",
              "      <td>9.030000e+05</td>\n",
              "      <td>9.200000</td>\n",
              "      <td>3084.000000</td>\n",
              "      <td>3.000000</td>\n",
              "      <td>1.000000</td>\n",
              "      <td>2.000000</td>\n",
              "      <td>440.000000</td>\n",
              "      <td>126.000000</td>\n",
              "      <td>1970.000000</td>\n",
              "      <td>-37.802355</td>\n",
              "      <td>145.000100</td>\n",
              "      <td>6555.000000</td>\n",
              "    </tr>\n",
              "    <tr>\n",
              "      <th>75%</th>\n",
              "      <td>3.000000</td>\n",
              "      <td>1.330000e+06</td>\n",
              "      <td>13.000000</td>\n",
              "      <td>3148.000000</td>\n",
              "      <td>3.000000</td>\n",
              "      <td>2.000000</td>\n",
              "      <td>2.000000</td>\n",
              "      <td>651.000000</td>\n",
              "      <td>174.000000</td>\n",
              "      <td>1999.000000</td>\n",
              "      <td>-37.756400</td>\n",
              "      <td>145.058305</td>\n",
              "      <td>10331.000000</td>\n",
              "    </tr>\n",
              "    <tr>\n",
              "      <th>max</th>\n",
              "      <td>10.000000</td>\n",
              "      <td>9.000000e+06</td>\n",
              "      <td>48.100000</td>\n",
              "      <td>3977.000000</td>\n",
              "      <td>20.000000</td>\n",
              "      <td>8.000000</td>\n",
              "      <td>10.000000</td>\n",
              "      <td>433014.000000</td>\n",
              "      <td>44515.000000</td>\n",
              "      <td>2018.000000</td>\n",
              "      <td>-37.408530</td>\n",
              "      <td>145.526350</td>\n",
              "      <td>21650.000000</td>\n",
              "    </tr>\n",
              "  </tbody>\n",
              "</table>\n",
              "</div>"
            ],
            "text/plain": [
              "              Rooms         Price  ...    Longtitude  Propertycount\n",
              "count  13580.000000  1.358000e+04  ...  13580.000000   13580.000000\n",
              "mean       2.937997  1.075684e+06  ...    144.995216    7454.417378\n",
              "std        0.955748  6.393107e+05  ...      0.103916    4378.581772\n",
              "min        1.000000  8.500000e+04  ...    144.431810     249.000000\n",
              "25%        2.000000  6.500000e+05  ...    144.929600    4380.000000\n",
              "50%        3.000000  9.030000e+05  ...    145.000100    6555.000000\n",
              "75%        3.000000  1.330000e+06  ...    145.058305   10331.000000\n",
              "max       10.000000  9.000000e+06  ...    145.526350   21650.000000\n",
              "\n",
              "[8 rows x 13 columns]"
            ]
          },
          "metadata": {
            "tags": []
          },
          "execution_count": 21
        }
      ]
    },
    {
      "cell_type": "code",
      "metadata": {
        "id": "aYTOGYJRDuRp",
        "colab_type": "code",
        "colab": {
          "base_uri": "https://localhost:8080/",
          "height": 101
        },
        "outputId": "1904e801-85a6-4668-9c6c-d902b9822c6d"
      },
      "source": [
        "home_data.columns"
      ],
      "execution_count": null,
      "outputs": [
        {
          "output_type": "execute_result",
          "data": {
            "text/plain": [
              "Index(['Suburb', 'Address', 'Rooms', 'Type', 'Price', 'Method', 'SellerG',\n",
              "       'Date', 'Distance', 'Postcode', 'Bedroom2', 'Bathroom', 'Car',\n",
              "       'Landsize', 'BuildingArea', 'YearBuilt', 'CouncilArea', 'Lattitude',\n",
              "       'Longtitude', 'Regionname', 'Propertycount'],\n",
              "      dtype='object')"
            ]
          },
          "metadata": {
            "tags": []
          },
          "execution_count": 22
        }
      ]
    },
    {
      "cell_type": "markdown",
      "metadata": {
        "id": "995PREcsD0mm",
        "colab_type": "text"
      },
      "source": [
        "The Melbourne data has some missing values (some houses for which some variables weren't recorded.)\n",
        "So, we will take the simplest option for now, and drop houses from our data."
      ]
    },
    {
      "cell_type": "code",
      "metadata": {
        "id": "RnTrEsX_D6UE",
        "colab_type": "code",
        "colab": {}
      },
      "source": [
        "home_data = home_data.dropna(axis=0)"
      ],
      "execution_count": null,
      "outputs": []
    },
    {
      "cell_type": "markdown",
      "metadata": {
        "id": "UykDdMbOEEEe",
        "colab_type": "text"
      },
      "source": [
        "#Selecting The Prediction Target"
      ]
    },
    {
      "cell_type": "code",
      "metadata": {
        "id": "e72F_5xzEE9U",
        "colab_type": "code",
        "colab": {}
      },
      "source": [
        "y = home_data.Price"
      ],
      "execution_count": null,
      "outputs": []
    },
    {
      "cell_type": "markdown",
      "metadata": {
        "id": "wx9Ii6D2EIwT",
        "colab_type": "text"
      },
      "source": [
        "#Choosing \"Features\"\n",
        "\n",
        "The columns that are inputted into our model (and later used to make predictions) are called \"features.\""
      ]
    },
    {
      "cell_type": "code",
      "metadata": {
        "id": "oKbW-ZD5ENnL",
        "colab_type": "code",
        "colab": {}
      },
      "source": [
        "melbourne_features = ['Rooms', 'Bathroom', 'Landsize', 'Lattitude', 'Longtitude']\n",
        "X = home_data[melbourne_features]"
      ],
      "execution_count": null,
      "outputs": []
    },
    {
      "cell_type": "code",
      "metadata": {
        "id": "dEQPelGtE-Lq",
        "colab_type": "code",
        "colab": {
          "base_uri": "https://localhost:8080/",
          "height": 284
        },
        "outputId": "6849611b-af44-422d-d1d3-134718e77b9d"
      },
      "source": [
        "X.describe()"
      ],
      "execution_count": null,
      "outputs": [
        {
          "output_type": "execute_result",
          "data": {
            "text/html": [
              "<div>\n",
              "<style scoped>\n",
              "    .dataframe tbody tr th:only-of-type {\n",
              "        vertical-align: middle;\n",
              "    }\n",
              "\n",
              "    .dataframe tbody tr th {\n",
              "        vertical-align: top;\n",
              "    }\n",
              "\n",
              "    .dataframe thead th {\n",
              "        text-align: right;\n",
              "    }\n",
              "</style>\n",
              "<table border=\"1\" class=\"dataframe\">\n",
              "  <thead>\n",
              "    <tr style=\"text-align: right;\">\n",
              "      <th></th>\n",
              "      <th>Rooms</th>\n",
              "      <th>Bathroom</th>\n",
              "      <th>Landsize</th>\n",
              "      <th>Lattitude</th>\n",
              "      <th>Longtitude</th>\n",
              "    </tr>\n",
              "  </thead>\n",
              "  <tbody>\n",
              "    <tr>\n",
              "      <th>count</th>\n",
              "      <td>6196.000000</td>\n",
              "      <td>6196.000000</td>\n",
              "      <td>6196.000000</td>\n",
              "      <td>6196.000000</td>\n",
              "      <td>6196.000000</td>\n",
              "    </tr>\n",
              "    <tr>\n",
              "      <th>mean</th>\n",
              "      <td>2.931407</td>\n",
              "      <td>1.576340</td>\n",
              "      <td>471.006940</td>\n",
              "      <td>-37.807904</td>\n",
              "      <td>144.990201</td>\n",
              "    </tr>\n",
              "    <tr>\n",
              "      <th>std</th>\n",
              "      <td>0.971079</td>\n",
              "      <td>0.711362</td>\n",
              "      <td>897.449881</td>\n",
              "      <td>0.075850</td>\n",
              "      <td>0.099165</td>\n",
              "    </tr>\n",
              "    <tr>\n",
              "      <th>min</th>\n",
              "      <td>1.000000</td>\n",
              "      <td>1.000000</td>\n",
              "      <td>0.000000</td>\n",
              "      <td>-38.164920</td>\n",
              "      <td>144.542370</td>\n",
              "    </tr>\n",
              "    <tr>\n",
              "      <th>25%</th>\n",
              "      <td>2.000000</td>\n",
              "      <td>1.000000</td>\n",
              "      <td>152.000000</td>\n",
              "      <td>-37.855438</td>\n",
              "      <td>144.926198</td>\n",
              "    </tr>\n",
              "    <tr>\n",
              "      <th>50%</th>\n",
              "      <td>3.000000</td>\n",
              "      <td>1.000000</td>\n",
              "      <td>373.000000</td>\n",
              "      <td>-37.802250</td>\n",
              "      <td>144.995800</td>\n",
              "    </tr>\n",
              "    <tr>\n",
              "      <th>75%</th>\n",
              "      <td>4.000000</td>\n",
              "      <td>2.000000</td>\n",
              "      <td>628.000000</td>\n",
              "      <td>-37.758200</td>\n",
              "      <td>145.052700</td>\n",
              "    </tr>\n",
              "    <tr>\n",
              "      <th>max</th>\n",
              "      <td>8.000000</td>\n",
              "      <td>8.000000</td>\n",
              "      <td>37000.000000</td>\n",
              "      <td>-37.457090</td>\n",
              "      <td>145.526350</td>\n",
              "    </tr>\n",
              "  </tbody>\n",
              "</table>\n",
              "</div>"
            ],
            "text/plain": [
              "             Rooms     Bathroom      Landsize    Lattitude   Longtitude\n",
              "count  6196.000000  6196.000000   6196.000000  6196.000000  6196.000000\n",
              "mean      2.931407     1.576340    471.006940   -37.807904   144.990201\n",
              "std       0.971079     0.711362    897.449881     0.075850     0.099165\n",
              "min       1.000000     1.000000      0.000000   -38.164920   144.542370\n",
              "25%       2.000000     1.000000    152.000000   -37.855438   144.926198\n",
              "50%       3.000000     1.000000    373.000000   -37.802250   144.995800\n",
              "75%       4.000000     2.000000    628.000000   -37.758200   145.052700\n",
              "max       8.000000     8.000000  37000.000000   -37.457090   145.526350"
            ]
          },
          "metadata": {
            "tags": []
          },
          "execution_count": 26
        }
      ]
    },
    {
      "cell_type": "code",
      "metadata": {
        "id": "POp3_iqcFGBs",
        "colab_type": "code",
        "colab": {
          "base_uri": "https://localhost:8080/",
          "height": 195
        },
        "outputId": "3856909f-96e8-4855-b2d9-54f81007a039"
      },
      "source": [
        "X.head()"
      ],
      "execution_count": null,
      "outputs": [
        {
          "output_type": "execute_result",
          "data": {
            "text/html": [
              "<div>\n",
              "<style scoped>\n",
              "    .dataframe tbody tr th:only-of-type {\n",
              "        vertical-align: middle;\n",
              "    }\n",
              "\n",
              "    .dataframe tbody tr th {\n",
              "        vertical-align: top;\n",
              "    }\n",
              "\n",
              "    .dataframe thead th {\n",
              "        text-align: right;\n",
              "    }\n",
              "</style>\n",
              "<table border=\"1\" class=\"dataframe\">\n",
              "  <thead>\n",
              "    <tr style=\"text-align: right;\">\n",
              "      <th></th>\n",
              "      <th>Rooms</th>\n",
              "      <th>Bathroom</th>\n",
              "      <th>Landsize</th>\n",
              "      <th>Lattitude</th>\n",
              "      <th>Longtitude</th>\n",
              "    </tr>\n",
              "  </thead>\n",
              "  <tbody>\n",
              "    <tr>\n",
              "      <th>1</th>\n",
              "      <td>2</td>\n",
              "      <td>1.0</td>\n",
              "      <td>156.0</td>\n",
              "      <td>-37.8079</td>\n",
              "      <td>144.9934</td>\n",
              "    </tr>\n",
              "    <tr>\n",
              "      <th>2</th>\n",
              "      <td>3</td>\n",
              "      <td>2.0</td>\n",
              "      <td>134.0</td>\n",
              "      <td>-37.8093</td>\n",
              "      <td>144.9944</td>\n",
              "    </tr>\n",
              "    <tr>\n",
              "      <th>4</th>\n",
              "      <td>4</td>\n",
              "      <td>1.0</td>\n",
              "      <td>120.0</td>\n",
              "      <td>-37.8072</td>\n",
              "      <td>144.9941</td>\n",
              "    </tr>\n",
              "    <tr>\n",
              "      <th>6</th>\n",
              "      <td>3</td>\n",
              "      <td>2.0</td>\n",
              "      <td>245.0</td>\n",
              "      <td>-37.8024</td>\n",
              "      <td>144.9993</td>\n",
              "    </tr>\n",
              "    <tr>\n",
              "      <th>7</th>\n",
              "      <td>2</td>\n",
              "      <td>1.0</td>\n",
              "      <td>256.0</td>\n",
              "      <td>-37.8060</td>\n",
              "      <td>144.9954</td>\n",
              "    </tr>\n",
              "  </tbody>\n",
              "</table>\n",
              "</div>"
            ],
            "text/plain": [
              "   Rooms  Bathroom  Landsize  Lattitude  Longtitude\n",
              "1      2       1.0     156.0   -37.8079    144.9934\n",
              "2      3       2.0     134.0   -37.8093    144.9944\n",
              "4      4       1.0     120.0   -37.8072    144.9941\n",
              "6      3       2.0     245.0   -37.8024    144.9993\n",
              "7      2       1.0     256.0   -37.8060    144.9954"
            ]
          },
          "metadata": {
            "tags": []
          },
          "execution_count": 27
        }
      ]
    },
    {
      "cell_type": "markdown",
      "metadata": {
        "id": "JfD5IKS5FKV7",
        "colab_type": "text"
      },
      "source": [
        "#Building your Model\n",
        "\n",
        "1)**Define:** What type of model will it be? A decision tree? Some other type of model? Some other parameters of the model type are specified too.\n",
        "\n",
        "2)**Fit:** Capture patterns from provided data. This is the heart of modeling.\n",
        "\n",
        "3)**Predict:** Just what it sounds like\n",
        "\n",
        "4)**Evaluate:** Determine how accurate the model's predictions are."
      ]
    },
    {
      "cell_type": "code",
      "metadata": {
        "id": "hrPAAIvDFd1G",
        "colab_type": "code",
        "colab": {
          "base_uri": "https://localhost:8080/",
          "height": 118
        },
        "outputId": "1281a917-36c3-473b-dc05-f235a796347a"
      },
      "source": [
        "from sklearn.tree import DecisionTreeRegressor\n",
        "\n",
        "# Define model. Specify a number for random_state to ensure same results each run\n",
        "melbourne_model = DecisionTreeRegressor(random_state=1)\n",
        "# Fit model\n",
        "melbourne_model.fit(X, y)"
      ],
      "execution_count": null,
      "outputs": [
        {
          "output_type": "execute_result",
          "data": {
            "text/plain": [
              "DecisionTreeRegressor(ccp_alpha=0.0, criterion='mse', max_depth=None,\n",
              "                      max_features=None, max_leaf_nodes=None,\n",
              "                      min_impurity_decrease=0.0, min_impurity_split=None,\n",
              "                      min_samples_leaf=1, min_samples_split=2,\n",
              "                      min_weight_fraction_leaf=0.0, presort='deprecated',\n",
              "                      random_state=1, splitter='best')"
            ]
          },
          "metadata": {
            "tags": []
          },
          "execution_count": 28
        }
      ]
    },
    {
      "cell_type": "code",
      "metadata": {
        "id": "hU1mJ6XSGCVQ",
        "colab_type": "code",
        "colab": {
          "base_uri": "https://localhost:8080/",
          "height": 50
        },
        "outputId": "2163c746-7daa-4cfe-bda5-611b6413bd4b"
      },
      "source": [
        "print(\"The predictions are\")\n",
        "print(melbourne_model.predict(X.head()))"
      ],
      "execution_count": null,
      "outputs": [
        {
          "output_type": "stream",
          "text": [
            "The predictions are\n",
            "[1035000. 1465000. 1600000. 1876000. 1636000.]\n"
          ],
          "name": "stdout"
        }
      ]
    },
    {
      "cell_type": "code",
      "metadata": {
        "id": "Xq5FWGJCGmEE",
        "colab_type": "code",
        "colab": {
          "base_uri": "https://localhost:8080/",
          "height": 34
        },
        "outputId": "ea384aef-d62b-4d13-8f7b-39ff3b5fa733"
      },
      "source": [
        "melbourne_model.predict(X.head())"
      ],
      "execution_count": null,
      "outputs": [
        {
          "output_type": "execute_result",
          "data": {
            "text/plain": [
              "array([1035000., 1465000., 1600000., 1876000., 1636000.])"
            ]
          },
          "metadata": {
            "tags": []
          },
          "execution_count": 30
        }
      ]
    },
    {
      "cell_type": "markdown",
      "metadata": {
        "id": "meDS7qKIGXdS",
        "colab_type": "text"
      },
      "source": [
        "#Model Validation"
      ]
    },
    {
      "cell_type": "code",
      "metadata": {
        "id": "rPBGkCw3GZGV",
        "colab_type": "code",
        "colab": {
          "base_uri": "https://localhost:8080/",
          "height": 34
        },
        "outputId": "a5307280-44fe-4cde-cabe-0c2a2acd9a6e"
      },
      "source": [
        "from sklearn.metrics import mean_absolute_error\n",
        "\n",
        "predicted_home_prices = melbourne_model.predict(X)\n",
        "mean_absolute_error(y, predicted_home_prices)"
      ],
      "execution_count": null,
      "outputs": [
        {
          "output_type": "execute_result",
          "data": {
            "text/plain": [
              "1115.7467183128902"
            ]
          },
          "metadata": {
            "tags": []
          },
          "execution_count": 31
        }
      ]
    },
    {
      "cell_type": "markdown",
      "metadata": {
        "id": "MRKTPmbRG55s",
        "colab_type": "text"
      },
      "source": [
        "#The Problem with \"In-Sample\" Scores"
      ]
    },
    {
      "cell_type": "code",
      "metadata": {
        "id": "8HKzMPBNG8XW",
        "colab_type": "code",
        "colab": {
          "base_uri": "https://localhost:8080/",
          "height": 34
        },
        "outputId": "5816c53a-ac88-4d66-d015-5750cd9c745f"
      },
      "source": [
        "from sklearn.model_selection import train_test_split\n",
        "from sklearn.tree import DecisionTreeRegressor\n",
        "\n",
        "# split data into training and validation data, for both features and target\n",
        "# The split is based on a random number generator. Supplying a numeric value to\n",
        "# the random_state argument guarantees we get the same split every time we\n",
        "# run this script.\n",
        "X_train, X_valid, y_train, y_valid = train_test_split(X, y, random_state = 0)\n",
        "# Define model\n",
        "melbourne_model = DecisionTreeRegressor(random_state=1)\n",
        "# Fit model\n",
        "melbourne_model.fit(X_train, y_train)\n",
        "\n",
        "# get predicted prices on validation data\n",
        "val_predictions = melbourne_model.predict(X_valid)\n",
        "print(mean_absolute_error(y_valid, val_predictions))"
      ],
      "execution_count": null,
      "outputs": [
        {
          "output_type": "stream",
          "text": [
            "273518.01872175594\n"
          ],
          "name": "stdout"
        }
      ]
    },
    {
      "cell_type": "markdown",
      "metadata": {
        "id": "oAeL7Se9HeDF",
        "colab_type": "text"
      },
      "source": [
        "![2q85n9s.png](data:image/png;base64,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)"
      ]
    },
    {
      "cell_type": "markdown",
      "metadata": {
        "id": "u6dZ8qm4H4-q",
        "colab_type": "text"
      },
      "source": [
        "#Experimenting With Different Models"
      ]
    },
    {
      "cell_type": "code",
      "metadata": {
        "id": "TOwzHcc_H86h",
        "colab_type": "code",
        "colab": {}
      },
      "source": [
        "from sklearn.metrics import mean_absolute_error\n",
        "from sklearn.tree import DecisionTreeRegressor\n",
        "\n",
        "def get_mae(max_leaf_nodes, X_train, X_valid, y_train, y_valid):\n",
        "    model = DecisionTreeRegressor(max_leaf_nodes=max_leaf_nodes, random_state=0)\n",
        "    model.fit(X_train, y_train)\n",
        "    preds_val = model.predict(X_valid)\n",
        "    mae = mean_absolute_error(y_valid, preds_val)\n",
        "    return mae"
      ],
      "execution_count": null,
      "outputs": []
    },
    {
      "cell_type": "code",
      "metadata": {
        "id": "20l8kLXnILbM",
        "colab_type": "code",
        "colab": {
          "base_uri": "https://localhost:8080/",
          "height": 84
        },
        "outputId": "e5d1520c-6f27-465f-c4f7-a0b0955d5509"
      },
      "source": [
        "for max_leaf_nodes in [5, 50, 500, 5000]:\n",
        "    my_mae = get_mae(max_leaf_nodes, X_train, X_valid, y_train, y_valid)\n",
        "    print(\"Max leaf nodes: %d  \\t\\t Mean Absolute Error:  %d\" %(max_leaf_nodes, my_mae))"
      ],
      "execution_count": null,
      "outputs": [
        {
          "output_type": "stream",
          "text": [
            "Max leaf nodes: 5  \t\t Mean Absolute Error:  385696\n",
            "Max leaf nodes: 50  \t\t Mean Absolute Error:  279794\n",
            "Max leaf nodes: 500  \t\t Mean Absolute Error:  261718\n",
            "Max leaf nodes: 5000  \t\t Mean Absolute Error:  271996\n"
          ],
          "name": "stdout"
        }
      ]
    },
    {
      "cell_type": "markdown",
      "metadata": {
        "id": "ONiIsrNEIQw5",
        "colab_type": "text"
      },
      "source": [
        "Of the options listed, *500* is the **optimal number of leaves**."
      ]
    },
    {
      "cell_type": "markdown",
      "metadata": {
        "id": "to89FYgMIZiA",
        "colab_type": "text"
      },
      "source": [
        "#RANDOM FORESTS"
      ]
    },
    {
      "cell_type": "code",
      "metadata": {
        "id": "X01NMQILIewh",
        "colab_type": "code",
        "colab": {
          "base_uri": "https://localhost:8080/",
          "height": 34
        },
        "outputId": "b9a69667-c7eb-46e7-c793-82765945dc83"
      },
      "source": [
        "from sklearn.ensemble import RandomForestRegressor\n",
        "from sklearn.metrics import mean_absolute_error\n",
        "\n",
        "forest_model = RandomForestRegressor(random_state=1)\n",
        "forest_model.fit(X_train, y_train)\n",
        "melb_preds = forest_model.predict(X_valid)\n",
        "print(mean_absolute_error(y_valid, melb_preds))"
      ],
      "execution_count": null,
      "outputs": [
        {
          "output_type": "stream",
          "text": [
            "207190.6873773146\n"
          ],
          "name": "stdout"
        }
      ]
    },
    {
      "cell_type": "markdown",
      "metadata": {
        "id": "XFQsRAwvJH7X",
        "colab_type": "text"
      },
      "source": [
        "#Conclusion\n",
        "\n",
        "There is likely room for further improvement, but this is a big improvement over the best decision tree error of 250,000. There are parameters which allow you to change the performance of the Random Forest much as we changed the maximum depth of the single decision tree. But one of the best features of Random Forest models is that they generally work reasonably even without this tuning."
      ]
    },
    {
      "cell_type": "markdown",
      "metadata": {
        "id": "ZB6v1JIYIBmp",
        "colab_type": "text"
      },
      "source": [
        "Most machine learning libraries (including scikit-learn) give an error if you try to build a model using data with missing values. So you'll need to choose one of the strategies below.\n",
        "\n",
        "1) **A Simple Option:** Drop Columns with Missing Values\n",
        "\n",
        "2) **A Better Option:** Imputation\n",
        "\n",
        "3) **An Extension To Imputation**"
      ]
    },
    {
      "cell_type": "code",
      "metadata": {
        "id": "58cjL9N8IeLI",
        "colab_type": "code",
        "colab": {}
      },
      "source": [
        "from sklearn.ensemble import RandomForestRegressor\n",
        "from sklearn.metrics import mean_absolute_error\n",
        "\n",
        "# Function for comparing different approaches\n",
        "def score_dataset(X_train, X_valid, y_train, y_valid):\n",
        "    model = RandomForestRegressor(n_estimators=10, random_state=0)\n",
        "    model.fit(X_train, y_train)\n",
        "    preds = model.predict(X_valid)\n",
        "    return mean_absolute_error(y_valid, preds)"
      ],
      "execution_count": null,
      "outputs": []
    },
    {
      "cell_type": "markdown",
      "metadata": {
        "id": "s3V55bemKoLz",
        "colab_type": "text"
      },
      "source": [
        "#Score from Approach 1 (Drop Columns with Missing Values)"
      ]
    },
    {
      "cell_type": "code",
      "metadata": {
        "id": "-MbeiXJIKp8p",
        "colab_type": "code",
        "colab": {
          "base_uri": "https://localhost:8080/",
          "height": 50
        },
        "outputId": "9c2d9437-1fca-4dd1-94f5-18ea8e488a2d"
      },
      "source": [
        "# Get names of columns with missing values\n",
        "cols_with_missing = [col for col in X_train.columns\n",
        "                     if X_train[col].isnull().any()]\n",
        "\n",
        "# Drop columns in training and validation data\n",
        "reduced_X_train = X_train.drop(cols_with_missing, axis=1)\n",
        "reduced_X_valid = X_valid.drop(cols_with_missing, axis=1)\n",
        "\n",
        "print(\"MAE from Approach 1 (Drop columns with missing values):\")\n",
        "print(score_dataset(reduced_X_train, reduced_X_valid, y_train, y_valid))"
      ],
      "execution_count": null,
      "outputs": [
        {
          "output_type": "stream",
          "text": [
            "MAE from Approach 1 (Drop columns with missing values):\n",
            "215038.14009038088\n"
          ],
          "name": "stdout"
        }
      ]
    },
    {
      "cell_type": "markdown",
      "metadata": {
        "id": "UWH848mzLXCa",
        "colab_type": "text"
      },
      "source": [
        "#Score from Approach 2 (Imputation)"
      ]
    },
    {
      "cell_type": "code",
      "metadata": {
        "id": "f5SCWuL9LY3i",
        "colab_type": "code",
        "colab": {
          "base_uri": "https://localhost:8080/",
          "height": 50
        },
        "outputId": "d28fae1b-5c42-4075-b338-e502edc8591a"
      },
      "source": [
        "from sklearn.impute import SimpleImputer\n",
        "\n",
        "# Imputation\n",
        "my_imputer = SimpleImputer()\n",
        "imputed_X_train = pd.DataFrame(my_imputer.fit_transform(X_train))\n",
        "imputed_X_valid = pd.DataFrame(my_imputer.transform(X_valid))\n",
        "\n",
        "# Imputation removed column names; put them back\n",
        "imputed_X_train.columns = X_train.columns\n",
        "imputed_X_valid.columns = X_valid.columns\n",
        "\n",
        "print(\"MAE from Approach 2 (Imputation):\")\n",
        "print(score_dataset(imputed_X_train, imputed_X_valid, y_train, y_valid))"
      ],
      "execution_count": null,
      "outputs": [
        {
          "output_type": "stream",
          "text": [
            "MAE from Approach 2 (Imputation):\n",
            "215038.14009038088\n"
          ],
          "name": "stdout"
        }
      ]
    },
    {
      "cell_type": "markdown",
      "metadata": {
        "id": "ScxI6c8cLmKO",
        "colab_type": "text"
      },
      "source": [
        "#Score from Approach 3 (An Extension to Imputation)"
      ]
    },
    {
      "cell_type": "code",
      "metadata": {
        "id": "fVlmSgrvLq9e",
        "colab_type": "code",
        "colab": {
          "base_uri": "https://localhost:8080/",
          "height": 50
        },
        "outputId": "1bdc3d2f-6b23-41bc-bd20-fd658b75d01d"
      },
      "source": [
        "# Make copy to avoid changing original data (when imputing)\n",
        "X_train_plus = X_train.copy()\n",
        "X_valid_plus = X_valid.copy()\n",
        "\n",
        "# Make new columns indicating what will be imputed\n",
        "for col in cols_with_missing:\n",
        "    X_train_plus[col + '_was_missing'] = X_train_plus[col].isnull()\n",
        "    X_valid_plus[col + '_was_missing'] = X_valid_plus[col].isnull()\n",
        "\n",
        "# Imputation\n",
        "my_imputer = SimpleImputer()\n",
        "imputed_X_train_plus = pd.DataFrame(my_imputer.fit_transform(X_train_plus))\n",
        "imputed_X_valid_plus = pd.DataFrame(my_imputer.transform(X_valid_plus))\n",
        "\n",
        "# Imputation removed column names; put them back\n",
        "imputed_X_train_plus.columns = X_train_plus.columns\n",
        "imputed_X_valid_plus.columns = X_valid_plus.columns\n",
        "\n",
        "print(\"MAE from Approach 3 (An Extension to Imputation):\")\n",
        "print(score_dataset(imputed_X_train_plus, imputed_X_valid_plus, y_train, y_valid))"
      ],
      "execution_count": null,
      "outputs": [
        {
          "output_type": "stream",
          "text": [
            "MAE from Approach 3 (An Extension to Imputation):\n",
            "215038.14009038088\n"
          ],
          "name": "stdout"
        }
      ]
    },
    {
      "cell_type": "markdown",
      "metadata": {
        "id": "AtyDQNpnL3e_",
        "colab_type": "text"
      },
      "source": [
        "As we can see, all the 3 Approaches performed properly. This indicates *no missing Data*.\n",
        "\n",
        "So, lets confirm it."
      ]
    },
    {
      "cell_type": "code",
      "metadata": {
        "id": "kAKYUdpyMIap",
        "colab_type": "code",
        "colab": {
          "base_uri": "https://localhost:8080/",
          "height": 50
        },
        "outputId": "cc3488ea-13b2-432a-998b-6c2fc49d7693"
      },
      "source": [
        "# Shape of training data (num_rows, num_columns)\n",
        "print(X_train.shape)\n",
        "\n",
        "# Number of missing values in each column of training data\n",
        "missing_val_count_by_column = (X_train.isnull().sum())\n",
        "print(missing_val_count_by_column[missing_val_count_by_column > 0])"
      ],
      "execution_count": null,
      "outputs": [
        {
          "output_type": "stream",
          "text": [
            "(4647, 5)\n",
            "Series([], dtype: int64)\n"
          ],
          "name": "stdout"
        }
      ]
    },
    {
      "cell_type": "markdown",
      "metadata": {
        "id": "o72BMp1OMMXG",
        "colab_type": "text"
      },
      "source": [
        "Thus, we can see **no Data is missing**."
      ]
    },
    {
      "cell_type": "markdown",
      "metadata": {
        "id": "1K2lRmtqN-fw",
        "colab_type": "text"
      },
      "source": [
        "Let's change our feature to see the changes."
      ]
    },
    {
      "cell_type": "code",
      "metadata": {
        "id": "GRNZwZPqOG1j",
        "colab_type": "code",
        "colab": {}
      },
      "source": [
        "import pandas as pd\n",
        "from sklearn.model_selection import train_test_split\n",
        "\n",
        "# Load the data\n",
        "data = pd.read_csv('melb_data.csv')\n",
        "\n",
        "# Select target\n",
        "y = data.Price\n",
        "\n",
        "# To keep things simple, we'll use only numerical predictors\n",
        "melb_predictors = data.drop(['Price'], axis=1)\n",
        "X = melb_predictors.select_dtypes(exclude=['object'])\n",
        "\n",
        "# Divide data into training and validation subsets\n",
        "X_train, X_valid, y_train, y_valid = train_test_split(X, y, train_size=0.8, test_size=0.2,\n",
        "                                                      random_state=0)"
      ],
      "execution_count": null,
      "outputs": []
    },
    {
      "cell_type": "code",
      "metadata": {
        "id": "a071cirkOMBn",
        "colab_type": "code",
        "colab": {
          "base_uri": "https://localhost:8080/",
          "height": 286
        },
        "outputId": "21d628d0-e9a5-42ba-f715-5e15af4f69c2"
      },
      "source": [
        "# Approach 1\n",
        "cols_with_missing = [col for col in X_train.columns\n",
        "                     if X_train[col].isnull().any()]\n",
        "reduced_X_train = X_train.drop(cols_with_missing, axis=1)\n",
        "reduced_X_valid = X_valid.drop(cols_with_missing, axis=1)\n",
        "print(\"MAE from Approach 1 (Drop columns with missing values):\")\n",
        "print(score_dataset(reduced_X_train, reduced_X_valid, y_train, y_valid))\n",
        "\n",
        "print('-------------------------------------------------------------------------------')\n",
        "\n",
        "#Approach 2\n",
        "from sklearn.impute import SimpleImputer\n",
        "my_imputer = SimpleImputer()\n",
        "imputed_X_train = pd.DataFrame(my_imputer.fit_transform(X_train))\n",
        "imputed_X_valid = pd.DataFrame(my_imputer.transform(X_valid))\n",
        "imputed_X_train.columns = X_train.columns\n",
        "imputed_X_valid.columns = X_valid.columns\n",
        "print(\"MAE from Approach 2 (Imputation):\")\n",
        "print(score_dataset(imputed_X_train, imputed_X_valid, y_train, y_valid))\n",
        "\n",
        "print('-------------------------------------------------------------------------------')\n",
        "\n",
        "# Approach 3\n",
        "X_train_plus = X_train.copy()\n",
        "X_valid_plus = X_valid.copy()\n",
        "for col in cols_with_missing:\n",
        "    X_train_plus[col + '_was_missing'] = X_train_plus[col].isnull()\n",
        "    X_valid_plus[col + '_was_missing'] = X_valid_plus[col].isnull()\n",
        "my_imputer = SimpleImputer()\n",
        "imputed_X_train_plus = pd.DataFrame(my_imputer.fit_transform(X_train_plus))\n",
        "imputed_X_valid_plus = pd.DataFrame(my_imputer.transform(X_valid_plus))\n",
        "imputed_X_train_plus.columns = X_train_plus.columns\n",
        "imputed_X_valid_plus.columns = X_valid_plus.columns\n",
        "print(\"MAE from Approach 3 (An Extension to Imputation):\")\n",
        "print(score_dataset(imputed_X_train_plus, imputed_X_valid_plus, y_train, y_valid))\n",
        "\n",
        "print('-------------------------------------------------------------------------------\\n\\n')\n",
        "\n",
        "#Printing the Missing Data\n",
        "print(X_train.shape)\n",
        "missing_val_count_by_column = (X_train.isnull().sum())\n",
        "print(missing_val_count_by_column[missing_val_count_by_column > 0])"
      ],
      "execution_count": null,
      "outputs": [
        {
          "output_type": "stream",
          "text": [
            "MAE from Approach 1 (Drop columns with missing values):\n",
            "183550.22137772635\n",
            "-------------------------------------------------------------------------------\n",
            "MAE from Approach 2 (Imputation):\n",
            "178166.46269899711\n",
            "-------------------------------------------------------------------------------\n",
            "MAE from Approach 3 (An Extension to Imputation):\n",
            "178927.503183954\n",
            "-------------------------------------------------------------------------------\n",
            "\n",
            "\n",
            "(10864, 12)\n",
            "Car               49\n",
            "BuildingArea    5156\n",
            "YearBuilt       4307\n",
            "dtype: int64\n"
          ],
          "name": "stdout"
        }
      ]
    },
    {
      "cell_type": "markdown",
      "metadata": {
        "id": "IvKYafxtPBGo",
        "colab_type": "text"
      },
      "source": [
        "As we can see, Approach 3 performed **slightly worse than** Approach 2.\n",
        "\n",
        "**So, why did imputation perform better than dropping the columns?**\n",
        "\n",
        "The training data has 10864 rows and 12 columns, where three columns contain missing data. For each column, less than half of the entries are missing. Thus, dropping the columns removes a lot of useful information, and so it makes sense that imputation would perform better."
      ]
    },
    {
      "cell_type": "markdown",
      "metadata": {
        "id": "jtE9nGAtQdzd",
        "colab_type": "text"
      },
      "source": [
        "# *Categorical Variables*\n",
        "A categorical variable takes only a limited number of values."
      ]
    },
    {
      "cell_type": "code",
      "metadata": {
        "id": "Es1gl9BkQxYP",
        "colab_type": "code",
        "colab": {}
      },
      "source": [
        "import pandas as pd\n",
        "from sklearn.model_selection import train_test_split\n",
        "\n",
        "# Read the data\n",
        "X = pd.read_csv('train.csv', index_col='Id') \n",
        "X_test = pd.read_csv('test.csv', index_col='Id')\n",
        "\n",
        "# Remove rows with missing target, separate target from predictors\n",
        "X.dropna(axis=0, subset=['SalePrice'], inplace=True)\n",
        "y = X.SalePrice\n",
        "X.drop(['SalePrice'], axis=1, inplace=True)\n",
        "\n",
        "# To keep things simple, we'll drop columns with missing values\n",
        "cols_with_missing = [col for col in X.columns if X[col].isnull().any()] \n",
        "X.drop(cols_with_missing, axis=1, inplace=True)\n",
        "X_test.drop(cols_with_missing, axis=1, inplace=True)\n",
        "\n",
        "# Break off validation set from training data\n",
        "X_train, X_valid, y_train, y_valid = train_test_split(X, y, train_size=0.8, test_size=0.2, random_state=0)"
      ],
      "execution_count": 1,
      "outputs": []
    },
    {
      "cell_type": "code",
      "metadata": {
        "id": "UuKZ5q5wQ-HO",
        "colab_type": "code",
        "colab": {
          "base_uri": "https://localhost:8080/",
          "height": 245
        },
        "outputId": "e7ea1b87-7f18-4f73-aa97-f4a70a79c7a0"
      },
      "source": [
        "X_train.head()"
      ],
      "execution_count": 2,
      "outputs": [
        {
          "output_type": "execute_result",
          "data": {
            "text/html": [
              "<div>\n",
              "<style scoped>\n",
              "    .dataframe tbody tr th:only-of-type {\n",
              "        vertical-align: middle;\n",
              "    }\n",
              "\n",
              "    .dataframe tbody tr th {\n",
              "        vertical-align: top;\n",
              "    }\n",
              "\n",
              "    .dataframe thead th {\n",
              "        text-align: right;\n",
              "    }\n",
              "</style>\n",
              "<table border=\"1\" class=\"dataframe\">\n",
              "  <thead>\n",
              "    <tr style=\"text-align: right;\">\n",
              "      <th></th>\n",
              "      <th>MSSubClass</th>\n",
              "      <th>MSZoning</th>\n",
              "      <th>LotArea</th>\n",
              "      <th>Street</th>\n",
              "      <th>LotShape</th>\n",
              "      <th>LandContour</th>\n",
              "      <th>Utilities</th>\n",
              "      <th>LotConfig</th>\n",
              "      <th>LandSlope</th>\n",
              "      <th>Neighborhood</th>\n",
              "      <th>Condition1</th>\n",
              "      <th>Condition2</th>\n",
              "      <th>BldgType</th>\n",
              "      <th>HouseStyle</th>\n",
              "      <th>OverallQual</th>\n",
              "      <th>OverallCond</th>\n",
              "      <th>YearBuilt</th>\n",
              "      <th>YearRemodAdd</th>\n",
              "      <th>RoofStyle</th>\n",
              "      <th>RoofMatl</th>\n",
              "      <th>Exterior1st</th>\n",
              "      <th>Exterior2nd</th>\n",
              "      <th>ExterQual</th>\n",
              "      <th>ExterCond</th>\n",
              "      <th>Foundation</th>\n",
              "      <th>BsmtFinSF1</th>\n",
              "      <th>BsmtFinSF2</th>\n",
              "      <th>BsmtUnfSF</th>\n",
              "      <th>TotalBsmtSF</th>\n",
              "      <th>Heating</th>\n",
              "      <th>HeatingQC</th>\n",
              "      <th>CentralAir</th>\n",
              "      <th>1stFlrSF</th>\n",
              "      <th>2ndFlrSF</th>\n",
              "      <th>LowQualFinSF</th>\n",
              "      <th>GrLivArea</th>\n",
              "      <th>BsmtFullBath</th>\n",
              "      <th>BsmtHalfBath</th>\n",
              "      <th>FullBath</th>\n",
              "      <th>HalfBath</th>\n",
              "      <th>BedroomAbvGr</th>\n",
              "      <th>KitchenAbvGr</th>\n",
              "      <th>KitchenQual</th>\n",
              "      <th>TotRmsAbvGrd</th>\n",
              "      <th>Functional</th>\n",
              "      <th>Fireplaces</th>\n",
              "      <th>GarageCars</th>\n",
              "      <th>GarageArea</th>\n",
              "      <th>PavedDrive</th>\n",
              "      <th>WoodDeckSF</th>\n",
              "      <th>OpenPorchSF</th>\n",
              "      <th>EnclosedPorch</th>\n",
              "      <th>3SsnPorch</th>\n",
              "      <th>ScreenPorch</th>\n",
              "      <th>PoolArea</th>\n",
              "      <th>MiscVal</th>\n",
              "      <th>MoSold</th>\n",
              "      <th>YrSold</th>\n",
              "      <th>SaleType</th>\n",
              "      <th>SaleCondition</th>\n",
              "    </tr>\n",
              "    <tr>\n",
              "      <th>Id</th>\n",
              "      <th></th>\n",
              "      <th></th>\n",
              "      <th></th>\n",
              "      <th></th>\n",
              "      <th></th>\n",
              "      <th></th>\n",
              "      <th></th>\n",
              "      <th></th>\n",
              "      <th></th>\n",
              "      <th></th>\n",
              "      <th></th>\n",
              "      <th></th>\n",
              "      <th></th>\n",
              "      <th></th>\n",
              "      <th></th>\n",
              "      <th></th>\n",
              "      <th></th>\n",
              "      <th></th>\n",
              "      <th></th>\n",
              "      <th></th>\n",
              "      <th></th>\n",
              "      <th></th>\n",
              "      <th></th>\n",
              "      <th></th>\n",
              "      <th></th>\n",
              "      <th></th>\n",
              "      <th></th>\n",
              "      <th></th>\n",
              "      <th></th>\n",
              "      <th></th>\n",
              "      <th></th>\n",
              "      <th></th>\n",
              "      <th></th>\n",
              "      <th></th>\n",
              "      <th></th>\n",
              "      <th></th>\n",
              "      <th></th>\n",
              "      <th></th>\n",
              "      <th></th>\n",
              "      <th></th>\n",
              "      <th></th>\n",
              "      <th></th>\n",
              "      <th></th>\n",
              "      <th></th>\n",
              "      <th></th>\n",
              "      <th></th>\n",
              "      <th></th>\n",
              "      <th></th>\n",
              "      <th></th>\n",
              "      <th></th>\n",
              "      <th></th>\n",
              "      <th></th>\n",
              "      <th></th>\n",
              "      <th></th>\n",
              "      <th></th>\n",
              "      <th></th>\n",
              "      <th></th>\n",
              "      <th></th>\n",
              "      <th></th>\n",
              "      <th></th>\n",
              "    </tr>\n",
              "  </thead>\n",
              "  <tbody>\n",
              "    <tr>\n",
              "      <th>619</th>\n",
              "      <td>20</td>\n",
              "      <td>RL</td>\n",
              "      <td>11694</td>\n",
              "      <td>Pave</td>\n",
              "      <td>Reg</td>\n",
              "      <td>Lvl</td>\n",
              "      <td>AllPub</td>\n",
              "      <td>Inside</td>\n",
              "      <td>Gtl</td>\n",
              "      <td>NridgHt</td>\n",
              "      <td>Norm</td>\n",
              "      <td>Norm</td>\n",
              "      <td>1Fam</td>\n",
              "      <td>1Story</td>\n",
              "      <td>9</td>\n",
              "      <td>5</td>\n",
              "      <td>2007</td>\n",
              "      <td>2007</td>\n",
              "      <td>Hip</td>\n",
              "      <td>CompShg</td>\n",
              "      <td>CemntBd</td>\n",
              "      <td>CmentBd</td>\n",
              "      <td>Ex</td>\n",
              "      <td>TA</td>\n",
              "      <td>PConc</td>\n",
              "      <td>48</td>\n",
              "      <td>0</td>\n",
              "      <td>1774</td>\n",
              "      <td>1822</td>\n",
              "      <td>GasA</td>\n",
              "      <td>Ex</td>\n",
              "      <td>Y</td>\n",
              "      <td>1828</td>\n",
              "      <td>0</td>\n",
              "      <td>0</td>\n",
              "      <td>1828</td>\n",
              "      <td>0</td>\n",
              "      <td>0</td>\n",
              "      <td>2</td>\n",
              "      <td>0</td>\n",
              "      <td>3</td>\n",
              "      <td>1</td>\n",
              "      <td>Gd</td>\n",
              "      <td>9</td>\n",
              "      <td>Typ</td>\n",
              "      <td>1</td>\n",
              "      <td>3</td>\n",
              "      <td>774</td>\n",
              "      <td>Y</td>\n",
              "      <td>0</td>\n",
              "      <td>108</td>\n",
              "      <td>0</td>\n",
              "      <td>0</td>\n",
              "      <td>260</td>\n",
              "      <td>0</td>\n",
              "      <td>0</td>\n",
              "      <td>7</td>\n",
              "      <td>2007</td>\n",
              "      <td>New</td>\n",
              "      <td>Partial</td>\n",
              "    </tr>\n",
              "    <tr>\n",
              "      <th>871</th>\n",
              "      <td>20</td>\n",
              "      <td>RL</td>\n",
              "      <td>6600</td>\n",
              "      <td>Pave</td>\n",
              "      <td>Reg</td>\n",
              "      <td>Lvl</td>\n",
              "      <td>AllPub</td>\n",
              "      <td>Inside</td>\n",
              "      <td>Gtl</td>\n",
              "      <td>NAmes</td>\n",
              "      <td>PosN</td>\n",
              "      <td>Norm</td>\n",
              "      <td>1Fam</td>\n",
              "      <td>1Story</td>\n",
              "      <td>5</td>\n",
              "      <td>5</td>\n",
              "      <td>1962</td>\n",
              "      <td>1962</td>\n",
              "      <td>Hip</td>\n",
              "      <td>CompShg</td>\n",
              "      <td>MetalSd</td>\n",
              "      <td>MetalSd</td>\n",
              "      <td>TA</td>\n",
              "      <td>TA</td>\n",
              "      <td>CBlock</td>\n",
              "      <td>0</td>\n",
              "      <td>0</td>\n",
              "      <td>894</td>\n",
              "      <td>894</td>\n",
              "      <td>GasA</td>\n",
              "      <td>Gd</td>\n",
              "      <td>N</td>\n",
              "      <td>894</td>\n",
              "      <td>0</td>\n",
              "      <td>0</td>\n",
              "      <td>894</td>\n",
              "      <td>0</td>\n",
              "      <td>0</td>\n",
              "      <td>1</td>\n",
              "      <td>0</td>\n",
              "      <td>2</td>\n",
              "      <td>1</td>\n",
              "      <td>TA</td>\n",
              "      <td>5</td>\n",
              "      <td>Typ</td>\n",
              "      <td>0</td>\n",
              "      <td>1</td>\n",
              "      <td>308</td>\n",
              "      <td>Y</td>\n",
              "      <td>0</td>\n",
              "      <td>0</td>\n",
              "      <td>0</td>\n",
              "      <td>0</td>\n",
              "      <td>0</td>\n",
              "      <td>0</td>\n",
              "      <td>0</td>\n",
              "      <td>8</td>\n",
              "      <td>2009</td>\n",
              "      <td>WD</td>\n",
              "      <td>Normal</td>\n",
              "    </tr>\n",
              "    <tr>\n",
              "      <th>93</th>\n",
              "      <td>30</td>\n",
              "      <td>RL</td>\n",
              "      <td>13360</td>\n",
              "      <td>Pave</td>\n",
              "      <td>IR1</td>\n",
              "      <td>HLS</td>\n",
              "      <td>AllPub</td>\n",
              "      <td>Inside</td>\n",
              "      <td>Gtl</td>\n",
              "      <td>Crawfor</td>\n",
              "      <td>Norm</td>\n",
              "      <td>Norm</td>\n",
              "      <td>1Fam</td>\n",
              "      <td>1Story</td>\n",
              "      <td>5</td>\n",
              "      <td>7</td>\n",
              "      <td>1921</td>\n",
              "      <td>2006</td>\n",
              "      <td>Gable</td>\n",
              "      <td>CompShg</td>\n",
              "      <td>Wd Sdng</td>\n",
              "      <td>Wd Sdng</td>\n",
              "      <td>TA</td>\n",
              "      <td>Gd</td>\n",
              "      <td>BrkTil</td>\n",
              "      <td>713</td>\n",
              "      <td>0</td>\n",
              "      <td>163</td>\n",
              "      <td>876</td>\n",
              "      <td>GasA</td>\n",
              "      <td>Ex</td>\n",
              "      <td>Y</td>\n",
              "      <td>964</td>\n",
              "      <td>0</td>\n",
              "      <td>0</td>\n",
              "      <td>964</td>\n",
              "      <td>1</td>\n",
              "      <td>0</td>\n",
              "      <td>1</td>\n",
              "      <td>0</td>\n",
              "      <td>2</td>\n",
              "      <td>1</td>\n",
              "      <td>TA</td>\n",
              "      <td>5</td>\n",
              "      <td>Typ</td>\n",
              "      <td>0</td>\n",
              "      <td>2</td>\n",
              "      <td>432</td>\n",
              "      <td>Y</td>\n",
              "      <td>0</td>\n",
              "      <td>0</td>\n",
              "      <td>44</td>\n",
              "      <td>0</td>\n",
              "      <td>0</td>\n",
              "      <td>0</td>\n",
              "      <td>0</td>\n",
              "      <td>8</td>\n",
              "      <td>2009</td>\n",
              "      <td>WD</td>\n",
              "      <td>Normal</td>\n",
              "    </tr>\n",
              "    <tr>\n",
              "      <th>818</th>\n",
              "      <td>20</td>\n",
              "      <td>RL</td>\n",
              "      <td>13265</td>\n",
              "      <td>Pave</td>\n",
              "      <td>IR1</td>\n",
              "      <td>Lvl</td>\n",
              "      <td>AllPub</td>\n",
              "      <td>CulDSac</td>\n",
              "      <td>Gtl</td>\n",
              "      <td>Mitchel</td>\n",
              "      <td>Norm</td>\n",
              "      <td>Norm</td>\n",
              "      <td>1Fam</td>\n",
              "      <td>1Story</td>\n",
              "      <td>8</td>\n",
              "      <td>5</td>\n",
              "      <td>2002</td>\n",
              "      <td>2002</td>\n",
              "      <td>Hip</td>\n",
              "      <td>CompShg</td>\n",
              "      <td>CemntBd</td>\n",
              "      <td>CmentBd</td>\n",
              "      <td>Gd</td>\n",
              "      <td>TA</td>\n",
              "      <td>PConc</td>\n",
              "      <td>1218</td>\n",
              "      <td>0</td>\n",
              "      <td>350</td>\n",
              "      <td>1568</td>\n",
              "      <td>GasA</td>\n",
              "      <td>Ex</td>\n",
              "      <td>Y</td>\n",
              "      <td>1689</td>\n",
              "      <td>0</td>\n",
              "      <td>0</td>\n",
              "      <td>1689</td>\n",
              "      <td>1</td>\n",
              "      <td>0</td>\n",
              "      <td>2</td>\n",
              "      <td>0</td>\n",
              "      <td>3</td>\n",
              "      <td>1</td>\n",
              "      <td>Gd</td>\n",
              "      <td>7</td>\n",
              "      <td>Typ</td>\n",
              "      <td>2</td>\n",
              "      <td>3</td>\n",
              "      <td>857</td>\n",
              "      <td>Y</td>\n",
              "      <td>150</td>\n",
              "      <td>59</td>\n",
              "      <td>0</td>\n",
              "      <td>0</td>\n",
              "      <td>0</td>\n",
              "      <td>0</td>\n",
              "      <td>0</td>\n",
              "      <td>7</td>\n",
              "      <td>2008</td>\n",
              "      <td>WD</td>\n",
              "      <td>Normal</td>\n",
              "    </tr>\n",
              "    <tr>\n",
              "      <th>303</th>\n",
              "      <td>20</td>\n",
              "      <td>RL</td>\n",
              "      <td>13704</td>\n",
              "      <td>Pave</td>\n",
              "      <td>IR1</td>\n",
              "      <td>Lvl</td>\n",
              "      <td>AllPub</td>\n",
              "      <td>Corner</td>\n",
              "      <td>Gtl</td>\n",
              "      <td>CollgCr</td>\n",
              "      <td>Norm</td>\n",
              "      <td>Norm</td>\n",
              "      <td>1Fam</td>\n",
              "      <td>1Story</td>\n",
              "      <td>7</td>\n",
              "      <td>5</td>\n",
              "      <td>2001</td>\n",
              "      <td>2002</td>\n",
              "      <td>Gable</td>\n",
              "      <td>CompShg</td>\n",
              "      <td>VinylSd</td>\n",
              "      <td>VinylSd</td>\n",
              "      <td>Gd</td>\n",
              "      <td>TA</td>\n",
              "      <td>PConc</td>\n",
              "      <td>0</td>\n",
              "      <td>0</td>\n",
              "      <td>1541</td>\n",
              "      <td>1541</td>\n",
              "      <td>GasA</td>\n",
              "      <td>Ex</td>\n",
              "      <td>Y</td>\n",
              "      <td>1541</td>\n",
              "      <td>0</td>\n",
              "      <td>0</td>\n",
              "      <td>1541</td>\n",
              "      <td>0</td>\n",
              "      <td>0</td>\n",
              "      <td>2</td>\n",
              "      <td>0</td>\n",
              "      <td>3</td>\n",
              "      <td>1</td>\n",
              "      <td>Gd</td>\n",
              "      <td>6</td>\n",
              "      <td>Typ</td>\n",
              "      <td>1</td>\n",
              "      <td>3</td>\n",
              "      <td>843</td>\n",
              "      <td>Y</td>\n",
              "      <td>468</td>\n",
              "      <td>81</td>\n",
              "      <td>0</td>\n",
              "      <td>0</td>\n",
              "      <td>0</td>\n",
              "      <td>0</td>\n",
              "      <td>0</td>\n",
              "      <td>1</td>\n",
              "      <td>2006</td>\n",
              "      <td>WD</td>\n",
              "      <td>Normal</td>\n",
              "    </tr>\n",
              "  </tbody>\n",
              "</table>\n",
              "</div>"
            ],
            "text/plain": [
              "     MSSubClass MSZoning  LotArea Street  ... MoSold YrSold SaleType SaleCondition\n",
              "Id                                        ...                                     \n",
              "619          20       RL    11694   Pave  ...      7   2007      New       Partial\n",
              "871          20       RL     6600   Pave  ...      8   2009       WD        Normal\n",
              "93           30       RL    13360   Pave  ...      8   2009       WD        Normal\n",
              "818          20       RL    13265   Pave  ...      7   2008       WD        Normal\n",
              "303          20       RL    13704   Pave  ...      1   2006       WD        Normal\n",
              "\n",
              "[5 rows x 60 columns]"
            ]
          },
          "metadata": {
            "tags": []
          },
          "execution_count": 2
        }
      ]
    },
    {
      "cell_type": "markdown",
      "metadata": {
        "id": "L6653SymRL5m",
        "colab_type": "text"
      },
      "source": [
        "The dataset contains both **numerical** and **categorical** variables.  \n",
        "There is need to encode the categorical data before training a model."
      ]
    },
    {
      "cell_type": "code",
      "metadata": {
        "id": "D1vA4peBReN_",
        "colab_type": "code",
        "colab": {}
      },
      "source": [
        "from sklearn.ensemble import RandomForestRegressor\n",
        "from sklearn.metrics import mean_absolute_error\n",
        "\n",
        "# function for comparing different approaches\n",
        "def score_dataset(X_train, X_valid, y_train, y_valid):\n",
        "    model = RandomForestRegressor(n_estimators=100, random_state=0)\n",
        "    model.fit(X_train, y_train)\n",
        "    preds = model.predict(X_valid)\n",
        "    return mean_absolute_error(y_valid, preds)"
      ],
      "execution_count": 3,
      "outputs": []
    },
    {
      "cell_type": "markdown",
      "metadata": {
        "id": "skVoVduLRncT",
        "colab_type": "text"
      },
      "source": [
        "**Step 1: Drop columns with categorical data**"
      ]
    },
    {
      "cell_type": "code",
      "metadata": {
        "id": "9CXoiXNKRpSH",
        "colab_type": "code",
        "colab": {
          "base_uri": "https://localhost:8080/",
          "height": 50
        },
        "outputId": "5c66b8fa-9407-42b4-b68e-b8bad446c1b1"
      },
      "source": [
        "drop_X_train = X_train.select_dtypes(exclude=['object'])\n",
        "drop_X_valid = X_valid.select_dtypes(exclude=['object'])\n",
        "\n",
        "print(\"MAE from Approach 1 (Drop categorical variables):\")\n",
        "print(score_dataset(drop_X_train, drop_X_valid, y_train, y_valid))"
      ],
      "execution_count": 4,
      "outputs": [
        {
          "output_type": "stream",
          "text": [
            "MAE from Approach 1 (Drop categorical variables):\n",
            "17837.82570776256\n"
          ],
          "name": "stdout"
        }
      ]
    },
    {
      "cell_type": "markdown",
      "metadata": {
        "id": "qfWniY9-R0A0",
        "colab_type": "text"
      },
      "source": [
        "**Step 2: Label encoding**"
      ]
    },
    {
      "cell_type": "code",
      "metadata": {
        "id": "zdKO9AxRR4kN",
        "colab_type": "code",
        "colab": {
          "base_uri": "https://localhost:8080/",
          "height": 67
        },
        "outputId": "d1174606-995e-4e5e-d9d2-470ffd81966f"
      },
      "source": [
        "print(\"Unique values in 'Condition2' column in training data:\", X_train['Condition2'].unique())\n",
        "print(\"\\nUnique values in 'Condition2' column in validation data:\", X_valid['Condition2'].unique())"
      ],
      "execution_count": 5,
      "outputs": [
        {
          "output_type": "stream",
          "text": [
            "Unique values in 'Condition2' column in training data: ['Norm' 'PosA' 'Feedr' 'PosN' 'Artery' 'RRAe']\n",
            "\n",
            "Unique values in 'Condition2' column in validation data: ['Norm' 'RRAn' 'RRNn' 'Artery' 'Feedr' 'PosN']\n"
          ],
          "name": "stdout"
        }
      ]
    },
    {
      "cell_type": "code",
      "metadata": {
        "id": "5cB1_WzoSHSt",
        "colab_type": "code",
        "colab": {
          "base_uri": "https://localhost:8080/",
          "height": 87
        },
        "outputId": "d0f57660-4c22-4cee-9cd8-c3e1a7d7853a"
      },
      "source": [
        "# All categorical columns\n",
        "object_cols = [col for col in X_train.columns if X_train[col].dtype == \"object\"]\n",
        "\n",
        "# Columns that can be safely label encoded\n",
        "good_label_cols = [col for col in object_cols if \n",
        "                   set(X_train[col]) == set(X_valid[col])]\n",
        "        \n",
        "# Problematic columns that will be dropped from the dataset\n",
        "bad_label_cols = list(set(object_cols)-set(good_label_cols))\n",
        "        \n",
        "print('Categorical columns that will be label encoded:', good_label_cols)\n",
        "print('\\nCategorical columns that will be dropped from the dataset:', bad_label_cols)"
      ],
      "execution_count": 6,
      "outputs": [
        {
          "output_type": "stream",
          "text": [
            "Categorical columns that will be label encoded: ['MSZoning', 'Street', 'LotShape', 'LandContour', 'LotConfig', 'BldgType', 'HouseStyle', 'ExterQual', 'CentralAir', 'KitchenQual', 'PavedDrive', 'SaleCondition']\n",
            "\n",
            "Categorical columns that will be dropped from the dataset: ['HeatingQC', 'Functional', 'Exterior1st', 'ExterCond', 'LandSlope', 'Condition2', 'Heating', 'RoofMatl', 'Foundation', 'Utilities', 'Exterior2nd', 'RoofStyle', 'SaleType', 'Condition1', 'Neighborhood']\n"
          ],
          "name": "stdout"
        }
      ]
    },
    {
      "cell_type": "code",
      "metadata": {
        "id": "jXm-AnOLSSxi",
        "colab_type": "code",
        "colab": {
          "base_uri": "https://localhost:8080/",
          "height": 50
        },
        "outputId": "c773fe72-32a1-4450-fe7d-c17cfc1b7907"
      },
      "source": [
        "from sklearn.preprocessing import LabelEncoder\n",
        "\n",
        "# Drop categorical columns that will not be encoded\n",
        "label_X_train = X_train.drop(bad_label_cols, axis=1)\n",
        "label_X_valid = X_valid.drop(bad_label_cols, axis=1)\n",
        "\n",
        "# Apply label encoder \n",
        "label_encoder = LabelEncoder()\n",
        "for col in set(good_label_cols):\n",
        "    label_X_train[col] = label_encoder.fit_transform(X_train[col])\n",
        "    label_X_valid[col] = label_encoder.transform(X_valid[col])\n",
        "\n",
        "print(\"MAE from Approach 2 (Label Encoding):\") \n",
        "print(score_dataset(label_X_train, label_X_valid, y_train, y_valid))"
      ],
      "execution_count": 7,
      "outputs": [
        {
          "output_type": "stream",
          "text": [
            "MAE from Approach 2 (Label Encoding):\n",
            "17575.291883561644\n"
          ],
          "name": "stdout"
        }
      ]
    },
    {
      "cell_type": "markdown",
      "metadata": {
        "id": "ZFHZphRoSdSx",
        "colab_type": "text"
      },
      "source": [
        "**Step 3: Investigating cardinality**"
      ]
    },
    {
      "cell_type": "code",
      "metadata": {
        "id": "VG2mzPpmSfJi",
        "colab_type": "code",
        "colab": {
          "base_uri": "https://localhost:8080/",
          "height": 470
        },
        "outputId": "dd8f7bfd-6c71-4d62-efe9-e6197925dcda"
      },
      "source": [
        "# Get number of unique entries in each column with categorical data\n",
        "object_nunique = list(map(lambda col: X_train[col].nunique(), object_cols))\n",
        "d = dict(zip(object_cols, object_nunique))\n",
        "\n",
        "# Print number of unique entries by column, in ascending order\n",
        "sorted(d.items(), key=lambda x: x[1])"
      ],
      "execution_count": 8,
      "outputs": [
        {
          "output_type": "execute_result",
          "data": {
            "text/plain": [
              "[('Street', 2),\n",
              " ('Utilities', 2),\n",
              " ('CentralAir', 2),\n",
              " ('LandSlope', 3),\n",
              " ('PavedDrive', 3),\n",
              " ('LotShape', 4),\n",
              " ('LandContour', 4),\n",
              " ('ExterQual', 4),\n",
              " ('KitchenQual', 4),\n",
              " ('MSZoning', 5),\n",
              " ('LotConfig', 5),\n",
              " ('BldgType', 5),\n",
              " ('ExterCond', 5),\n",
              " ('HeatingQC', 5),\n",
              " ('Condition2', 6),\n",
              " ('RoofStyle', 6),\n",
              " ('Foundation', 6),\n",
              " ('Heating', 6),\n",
              " ('Functional', 6),\n",
              " ('SaleCondition', 6),\n",
              " ('RoofMatl', 7),\n",
              " ('HouseStyle', 8),\n",
              " ('Condition1', 9),\n",
              " ('SaleType', 9),\n",
              " ('Exterior1st', 15),\n",
              " ('Exterior2nd', 16),\n",
              " ('Neighborhood', 25)]"
            ]
          },
          "metadata": {
            "tags": []
          },
          "execution_count": 8
        }
      ]
    },
    {
      "cell_type": "markdown",
      "metadata": {
        "id": "dIhu-wvcSq6i",
        "colab_type": "text"
      },
      "source": [
        "How many categorical variables in the training data have cardinality greater than 10?\n",
        "\n",
        "*high_cardinality_numcols = 3*\n",
        "\n",
        "How many columns are needed to one-hot encode the 'Neighborhood' variable in the training data?\n",
        "\n",
        "*num_cols_neighborhood = 25*\n",
        "\n",
        "How many entries are added to the dataset by replacing the column with a one-hot encoding?\n",
        "\n",
        "OH_entries_added = 1e4*100 - 1e4\n",
        "\n",
        "How many entries are added to the dataset by replacing the column with a label encoding?\n",
        "\n",
        "*label_entries_added = 0*"
      ]
    },
    {
      "cell_type": "markdown",
      "metadata": {
        "id": "YSvfMTjJTiAx",
        "colab_type": "text"
      },
      "source": [
        "**Step 4: One-hot encoding**"
      ]
    },
    {
      "cell_type": "code",
      "metadata": {
        "id": "UyCjxGyuTl3x",
        "colab_type": "code",
        "colab": {
          "base_uri": "https://localhost:8080/",
          "height": 87
        },
        "outputId": "631bac5b-6435-45d4-8ec8-e02b67584c4d"
      },
      "source": [
        "# Columns that will be one-hot encoded\n",
        "low_cardinality_cols = [col for col in object_cols if X_train[col].nunique() < 10]\n",
        "\n",
        "# Columns that will be dropped from the dataset\n",
        "high_cardinality_cols = list(set(object_cols)-set(low_cardinality_cols))\n",
        "\n",
        "print('Categorical columns that will be one-hot encoded:', low_cardinality_cols)\n",
        "print('\\nCategorical columns that will be dropped from the dataset:', high_cardinality_cols)"
      ],
      "execution_count": 9,
      "outputs": [
        {
          "output_type": "stream",
          "text": [
            "Categorical columns that will be one-hot encoded: ['MSZoning', 'Street', 'LotShape', 'LandContour', 'Utilities', 'LotConfig', 'LandSlope', 'Condition1', 'Condition2', 'BldgType', 'HouseStyle', 'RoofStyle', 'RoofMatl', 'ExterQual', 'ExterCond', 'Foundation', 'Heating', 'HeatingQC', 'CentralAir', 'KitchenQual', 'Functional', 'PavedDrive', 'SaleType', 'SaleCondition']\n",
            "\n",
            "Categorical columns that will be dropped from the dataset: ['Neighborhood', 'Exterior2nd', 'Exterior1st']\n"
          ],
          "name": "stdout"
        }
      ]
    },
    {
      "cell_type": "code",
      "metadata": {
        "id": "EChs1G__TrnV",
        "colab_type": "code",
        "colab": {
          "base_uri": "https://localhost:8080/",
          "height": 50
        },
        "outputId": "2a394e5f-681b-47a3-fba8-152576320b0b"
      },
      "source": [
        "from sklearn.preprocessing import OneHotEncoder\n",
        "\n",
        "# Use as many lines of code as you need!\n",
        "OH_encoder = OneHotEncoder(handle_unknown='ignore', sparse=False)\n",
        "OH_cols_train = pd.DataFrame(OH_encoder.fit_transform(X_train[low_cardinality_cols]))\n",
        "OH_cols_valid = pd.DataFrame(OH_encoder.transform(X_valid[low_cardinality_cols]))\n",
        "\n",
        "OH_cols_train.index= X_train.index\n",
        "OH_cols_valid.index = X_valid.index\n",
        "\n",
        "num_X_train = X_train.drop(object_cols, axis=1)\n",
        "num_X_valid = X_valid.drop(object_cols, axis=1)\n",
        "\n",
        "OH_X_train = pd.concat([num_X_train, OH_cols_train], axis=1)\n",
        "OH_X_valid = pd.concat([num_X_valid, OH_cols_valid], axis=1)\n",
        "\n",
        "print(\"MAE from Approach 3 (One-Hot Encoding):\") \n",
        "print(score_dataset(OH_X_train, OH_X_valid, y_train, y_valid))"
      ],
      "execution_count": 10,
      "outputs": [
        {
          "output_type": "stream",
          "text": [
            "MAE from Approach 3 (One-Hot Encoding):\n",
            "17525.345719178084\n"
          ],
          "name": "stdout"
        }
      ]
    },
    {
      "cell_type": "markdown",
      "metadata": {
        "id": "Y4f3dbCOT5kP",
        "colab_type": "text"
      },
      "source": [
        "**Conclusion**\n",
        "\n",
        "In this case, dropping the categorical columns (Approach 1) performed worst, since it had the highest MAE score. As for the other two approaches, since the returned MAE scores are so close in value, there doesn't appear to be any meaningful benefit to one over the other.\n",
        "\n",
        "In general, one-hot encoding (Approach 3) will typically perform best, and dropping the categorical columns (Approach 1) typically performs worst, but it varies on a case-by-case basis."
      ]
    }
  ]
}